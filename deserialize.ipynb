{
 "cells": [
  {
   "cell_type": "code",
   "execution_count": 1,
   "metadata": {},
   "outputs": [
    {
     "name": "stderr",
     "output_type": "stream",
     "text": [
      "/Users/paul/Documents/FOM/MasterArbeit/Thesis/dev/TopGov/venv/lib/python3.8/site-packages/tqdm/auto.py:21: TqdmWarning: IProgress not found. Please update jupyter and ipywidgets. See https://ipywidgets.readthedocs.io/en/stable/user_install.html\n",
      "  from .autonotebook import tqdm as notebook_tqdm\n"
     ]
    }
   ],
   "source": [
    "from Library import Library"
   ]
  },
  {
   "cell_type": "code",
   "execution_count": 2,
   "metadata": {},
   "outputs": [],
   "source": [
    "library = Library('/Users/paul/Desktop/ZZ_TestData.bib')"
   ]
  },
  {
   "cell_type": "code",
   "execution_count": 3,
   "metadata": {},
   "outputs": [
    {
     "name": "stdout",
     "output_type": "stream",
     "text": [
      "No entry object passed. Creating empty document. Attributes may be set by deserialization afterwards.\n",
      "Successfully deserialized A {MORPHOLOGY} {OF} {THE} {ORGANISATION} {OF} {DATA} {GOVERNANCE}\n",
      "No entry object passed. Creating empty document. Attributes may be set by deserialization afterwards.\n",
      "Successfully deserialized Data {Governance} as {Success} {Factor} for {Data} {Science}\n",
      "No entry object passed. Creating empty document. Attributes may be set by deserialization afterwards.\n",
      "Successfully deserialized Emerging models of data governance in the age of datafication\n",
      "No entry object passed. Creating empty document. Attributes may be set by deserialization afterwards.\n",
      "Successfully deserialized Data governance: {Organizing} data for trustworthy {Artificial} {Intelligence}\n"
     ]
    }
   ],
   "source": [
    "library.deserialize()"
   ]
  }
 ],
 "metadata": {
  "kernelspec": {
   "display_name": "venv",
   "language": "python",
   "name": "python3"
  },
  "language_info": {
   "codemirror_mode": {
    "name": "ipython",
    "version": 3
   },
   "file_extension": ".py",
   "mimetype": "text/x-python",
   "name": "python",
   "nbconvert_exporter": "python",
   "pygments_lexer": "ipython3",
   "version": "3.8.1"
  }
 },
 "nbformat": 4,
 "nbformat_minor": 2
}
