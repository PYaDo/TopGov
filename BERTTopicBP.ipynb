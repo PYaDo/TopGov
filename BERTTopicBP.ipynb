{
 "cells": [
  {
   "cell_type": "code",
   "execution_count": null,
   "metadata": {},
   "outputs": [],
   "source": [
    "import ContentLibrary as cl\n",
    "from pdfminer.high_level import extract_text\n",
    "\n",
    "library = cl.ContentLibrary('/Users/paul/Desktop/FOM_MSc_Thesis.bib')\n"
   ]
  },
  {
   "cell_type": "code",
   "execution_count": null,
   "metadata": {},
   "outputs": [],
   "source": [
    "class Document():\n",
    "\n",
    "    def __init__(self, entry):\n",
    "        base_path = '/Users/paul/Zotero/storage/' \n",
    "        self.entry = entry\n",
    "        self.title = self.entry.fields['title']\n",
    "        self.fields = self.entry.fields.keys()\n",
    "        self.is_valid = False\n",
    "        if 'file' in self.fields:\n",
    "           self.file = self.entry.fields['file'].split(base_path)[1].split(':')[0]\n",
    "        else:\n",
    "            self.file = ''\n",
    "            self.text = None\n",
    "        self.is_pdf = bool(re.search('.pdf', self.file))\n",
    "        if self.is_pdf:\n",
    "            self.text = extract_text(base_path + self.file)\n",
    "            self.is_valid = True\n"
   ]
  }
 ],
 "metadata": {
  "kernelspec": {
   "display_name": "venv",
   "language": "python",
   "name": "python3"
  },
  "language_info": {
   "name": "python",
   "version": "3.8.1"
  }
 },
 "nbformat": 4,
 "nbformat_minor": 2
}
